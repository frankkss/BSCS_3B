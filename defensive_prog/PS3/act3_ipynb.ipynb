{
 "cells": [
  {
   "cell_type": "markdown",
   "metadata": {},
   "source": [
    "# Unicode and Emoji Handling in Python\n",
    "\n",
    "## Objective\n",
    "This activity aims to familiarize students with Unicode text processing, emoji handling, and basic string operations in Python. Students will learn how to work with text containing emojis, perform encoding and decoding operations, and use regular expressions to identify and count emojis.\n",
    "\n",
    "## Tasks\n",
    "\n",
    "### Task 1: Creating a String with Text and Emojis\n",
    "- Create a string that combines regular text and emojis.\n",
    "- Print the original message and its length.\n",
    "- Observe how Python handles the mixed string of text and emojis.\n",
    "\n",
    "### Task 2: Encoding and Decoding the Message\n",
    "- Encode the mixed string using UTF-8 encoding.\n",
    "- Print the encoded message to observe its byte representation.\n",
    "- Decode the encoded message back to its original form.\n",
    "- Compare the decoded message with the original to ensure they match.\n",
    "\n",
    "### Task 3: Counting Emojis in the Message\n",
    "- Use a regular expression pattern to identify emojis in the string.\n",
    "- Count the number of emojis present in the message.\n",
    "- Print the total count of emojis found.\n",
    "\n",
    "### Bonus Task\n",
    "- Experiment by adding more emojis to the original message.\n",
    "- Observe how the emoji count changes with different combinations of emojis.\n"
   ]
  },
  {
   "cell_type": "markdown",
   "metadata": {},
   "source": [
    "### Submit act3_LASTNAME_FIRSTNAME.ipynb"
   ]
  },
  {
   "cell_type": "code",
   "execution_count": null,
   "metadata": {},
   "outputs": [],
   "source": []
  },
  {
   "cell_type": "code",
   "execution_count": 1,
   "metadata": {},
   "outputs": [
    {
     "name": "stdout",
     "output_type": "stream",
     "text": [
      "Hello! 👋 I love ₱y₮hon 🐍 and emoji₷ 😊 🚀\n",
      "Length of the message: 39\n"
     ]
    }
   ],
   "source": [
    "# Task 1: Creating a string with text and emojis\n",
    "x = \"Hello! 👋 I love ₱y₮hon 🐍 and emoji₷ 😊 🚀\"\n",
    "print(x)\n",
    "print(\"Length of the message:\", len(x))"
   ]
  },
  {
   "cell_type": "code",
   "execution_count": 13,
   "metadata": {},
   "outputs": [
    {
     "name": "stdout",
     "output_type": "stream",
     "text": [
      "Decoded message:  b'Hello! \\xf0\\x9f\\x91\\x8b I love \\xe2\\x82\\xb1y\\xe2\\x82\\xaehon \\xf0\\x9f\\x90\\x8d and emoji\\xe2\\x82\\xb7 \\xf0\\x9f\\x98\\x8a \\xf0\\x9f\\x9a\\x80'\n",
      "Decoded message:  Hello! 👋 I love ₱y₮hon 🐍 and emoji₷ 😊 🚀\n"
     ]
    }
   ],
   "source": [
    "# Task 2: Encoding and decoding the message\n",
    "\n",
    "encoded_string = x.encode(\"utf-8\")\n",
    "print(\"Decoded message: \", encoded_string) \n",
    "\n",
    "decoded_string = encoded_string.decode(\"utf-8\")\n",
    "print(\"Decoded message: \", decoded_string)\n",
    "\n",
    " "
   ]
  },
  {
   "cell_type": "code",
   "execution_count": 14,
   "metadata": {},
   "outputs": [
    {
     "name": "stdout",
     "output_type": "stream",
     "text": [
      "Number of emojis: 5\n"
     ]
    }
   ],
   "source": [
    "import re\n",
    "from emoji import EMOJI_DATA\n",
    "\n",
    "my_string = \"Hello! 👋 I love ₱y₮hon 🐍 and emoji₷ 😊 🚀🤮\"\n",
    "\n",
    "# Create a regex pattern that matches any emoji\n",
    "emoji_pattern = re.compile('|'.join(re.escape(emoji) for emoji in EMOJI_DATA))\n",
    "\n",
    "# Find all emojis in the string\n",
    "emojis_found = emoji_pattern.findall(my_string)\n",
    "\n",
    "# Count the number of emojis\n",
    "emoji_count = len(emojis_found)\n",
    "\n",
    "print(f\"Number of emojis: {emoji_count}\")"
   ]
  }
 ],
 "metadata": {
  "kernelspec": {
   "display_name": "Python 3",
   "language": "python",
   "name": "python3"
  },
  "language_info": {
   "codemirror_mode": {
    "name": "ipython",
    "version": 3
   },
   "file_extension": ".py",
   "mimetype": "text/x-python",
   "name": "python",
   "nbconvert_exporter": "python",
   "pygments_lexer": "ipython3",
   "version": "3.12.1"
  }
 },
 "nbformat": 4,
 "nbformat_minor": 2
}
