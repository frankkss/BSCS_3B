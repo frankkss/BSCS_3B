{
 "cells": [
  {
   "cell_type": "markdown",
   "metadata": {},
   "source": [
    "## Task 1: Creating a string with text and emojis"
   ]
  },
  {
   "cell_type": "code",
   "execution_count": 76,
   "metadata": {},
   "outputs": [
    {
     "name": "stdout",
     "output_type": "stream",
     "text": [
      "Task 1: Creating a string with text and emojis\n",
      "Hello! 👋 I love ₱y₮hon 🐍 and emoji₷ 😊 🚀\n",
      "Length of the message: 39\n"
     ]
    }
   ],
   "source": [
    "print(\"Task 1: Creating a string with text and emojis\")\n",
    "my_string = \"Hello! 👋 I love ₱y₮hon 🐍 and emoji₷ 😊 🚀\"\n",
    "print(my_string)\n",
    "print(\"Length of the message:\", len(my_string))"
   ]
  },
  {
   "cell_type": "markdown",
   "metadata": {},
   "source": [
    "## Task 2: Encoding and decoding the message"
   ]
  },
  {
   "cell_type": "code",
   "execution_count": 77,
   "metadata": {},
   "outputs": [
    {
     "name": "stdout",
     "output_type": "stream",
     "text": [
      "Task 2: Encoding and decoding the message\n",
      "Encode message:  b'Hello! \\xf0\\x9f\\x91\\x8b I love \\xe2\\x82\\xb1y\\xe2\\x82\\xaehon \\xf0\\x9f\\x90\\x8d and emoji\\xe2\\x82\\xb7 \\xf0\\x9f\\x98\\x8a \\xf0\\x9f\\x9a\\x80'\n",
      "Decoded message:  Hello! 👋 I love ₱y₮hon 🐍 and emoji₷ 😊 🚀\n"
     ]
    }
   ],
   "source": [
    "print(\"Task 2: Encoding and decoding the message\")\n",
    "encoded_string = my_string.encode(\"utf-8\")\n",
    "print(\"Encode message: \", encoded_string) \n",
    "\n",
    "decoded_string = encoded_string.decode(\"utf-8\")\n",
    "print(\"Decoded message: \", decoded_string)"
   ]
  },
  {
   "cell_type": "markdown",
   "metadata": {},
   "source": [
    "## Task 3: Counting emojis in the message"
   ]
  },
  {
   "cell_type": "code",
   "execution_count": 78,
   "metadata": {},
   "outputs": [
    {
     "name": "stdout",
     "output_type": "stream",
     "text": [
      "Task 3: Counting emojis in the message\n",
      "Number of emojis in the message:  7\n"
     ]
    }
   ],
   "source": [
    "print(\"Task 3: Counting emojis in the message\")\n",
    "import re\n",
    "\n",
    "# Use a regular expression pattern to identify emojis in the string\n",
    "emoji_pattern = re.compile(\n",
    "    \"[\"\n",
    "    \"\\U0001F600-\\U0001F64F\"\n",
    "    \"\\U0001F300-\\U0001F5FF\"\n",
    "    \"\\U0001F680-\\U0001F6FF\"\n",
    "    \"\\U0001F1E0-\\U0001F1FF\"\n",
    "    \"\\U0001F900-\\U0001F9FF\"\n",
    "    \"\\u20A0-\\u20CF\"\n",
    "    \"]+\", flags=re.UNICODE)\n",
    "\n",
    "# Count the number of emojis present in the message\n",
    "emojis_found = emoji_pattern.findall(decoded_string)\n",
    "print(\"Number of emojis in the message: \", len(emojis_found))\n"
   ]
  },
  {
   "cell_type": "markdown",
   "metadata": {},
   "source": [
    "## Task 4: Counting emojis in each category"
   ]
  },
  {
   "cell_type": "code",
   "execution_count": 79,
   "metadata": {},
   "outputs": [
    {
     "name": "stdout",
     "output_type": "stream",
     "text": [
      "\n",
      "Task 4: Counting emojis in each category\n",
      "Number of emojis in the Emoticons category: 1\n",
      "Number of emojis in the Symbols & Pictographs category: 2\n",
      "Number of emojis in the Transport & Map Symbols category: 1\n",
      "Number of emojis in the Currency Symbols category: 3\n"
     ]
    }
   ],
   "source": [
    "categories = {\n",
    "    \"Emoticons\": r\"[\\U0001F600-\\U0001F64F]\",\n",
    "    \"Symbols & Pictographs\": r\"[\\U0001F300-\\U0001F5FF]\",\n",
    "    \"Transport & Map Symbols\": r\"[\\U0001F680-\\U0001F6FF]\",\n",
    "    \"Currency Symbols\": r\"[\\u20A0-\\u20CF]\"\n",
    "}\n",
    "\n",
    "print(\"\\nTask 4: Counting emojis in each category\")\n",
    "for category, pattern in categories.items():\n",
    "    category_emojis = re.findall(pattern, decoded_string)\n",
    "    print(f\"Number of emojis in the {category} category:\", len(category_emojis))\n"
   ]
  },
  {
   "cell_type": "code",
   "execution_count": 109,
   "metadata": {},
   "outputs": [
    {
     "name": "stdout",
     "output_type": "stream",
     "text": [
      "Original message:   in zoom 💻---Hello00! 👋 I love ₱y₮hon 🐍 and emoji₷ 🚀, so bad😍!!\n",
      "Length of the message:  63\n",
      "\n",
      "Encode message:  b' in zoom \\xf0\\x9f\\x92\\xbb---Hello00! \\xf0\\x9f\\x91\\x8b I love \\xe2\\x82\\xb1y\\xe2\\x82\\xaehon \\xf0\\x9f\\x90\\x8d and emoji\\xe2\\x82\\xb7 \\xf0\\x9f\\x9a\\x80, so bad\\xf0\\x9f\\x98\\x8d!!'\n",
      "Decoded message:   in zoom 💻---Hello00! 👋 I love ₱y₮hon 🐍 and emoji₷ 🚀, so bad😍!!\n",
      "\n",
      "Number of emojis in the message:  8 \n",
      "\n",
      "Number of emojis in the Emoticons category: 1\n",
      "Number of emojis in the Symbols & Pictographs category: 3\n",
      "Number of emojis in the Transport & Map Symbols category: 1\n",
      "Number of emojis in the Currency Symbols category: 3\n"
     ]
    }
   ],
   "source": [
    "#BUNOS\n",
    "\n",
    "#1\n",
    "my_2nd_string = \" in zoom 💻---Hello00! 👋 I love ₱y₮hon 🐍 and emoji₷ 🚀, so bad😍!!\"\n",
    "print(\"Original message: \", my_2nd_string)\n",
    "print(\"Length of the message: \", len(my_2nd_string))\n",
    "\n",
    "#2\n",
    "encoded_string2 = my_2nd_string.encode(\"utf-8\")\n",
    "print(\"\\nEncode message: \", encoded_string2) \n",
    "\n",
    "decoded_string2 = encoded_string2.decode(\"utf-8\")\n",
    "print(\"Decoded message: \", decoded_string2)\n",
    "\n",
    "\n",
    "#3\n",
    "emojis_found2 = emoji_pattern.findall(my_2nd_string)\n",
    "print(\"\\nNumber of emojis in the message: \", len(emojis_found2), \"\\n\")\n",
    "\n",
    "\n",
    "#4\n",
    "for category, pattern in categories.items():\n",
    "    category_emojis = re.findall(pattern, my_2nd_string)\n",
    "    print(f\"Number of emojis in the {category} category:\", len(category_emojis))\n",
    "\n"
   ]
  }
 ],
 "metadata": {
  "kernelspec": {
   "display_name": "Python 3",
   "language": "python",
   "name": "python3"
  },
  "language_info": {
   "codemirror_mode": {
    "name": "ipython",
    "version": 3
   },
   "file_extension": ".py",
   "mimetype": "text/x-python",
   "name": "python",
   "nbconvert_exporter": "python",
   "pygments_lexer": "ipython3",
   "version": "3.12.6"
  }
 },
 "nbformat": 4,
 "nbformat_minor": 2
}
